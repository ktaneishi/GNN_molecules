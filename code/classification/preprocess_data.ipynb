{
 "cells": [
  {
   "cell_type": "code",
   "execution_count": 1,
   "metadata": {},
   "outputs": [],
   "source": [
    "import numpy as np\n",
    "from collections import defaultdict\n",
    "from tqdm import tqdm\n",
    "import pickle\n",
    "import os"
   ]
  },
  {
   "cell_type": "code",
   "execution_count": 2,
   "metadata": {},
   "outputs": [
    {
     "name": "stderr",
     "output_type": "stream",
     "text": [
      "RDKit WARNING: [11:43:01] Enabling RDKit 2019.09.2 jupyter extensions\n"
     ]
    }
   ],
   "source": [
    "from rdkit import Chem"
   ]
  },
  {
   "cell_type": "code",
   "execution_count": 3,
   "metadata": {},
   "outputs": [],
   "source": [
    "def create_atoms(mol):\n",
    "    '''Create a list of atom (e.g., hydrogen and oxygen) IDs considering the aromaticity.'''\n",
    "    atoms = [a.GetSymbol() for a in mol.GetAtoms()]\n",
    "    for a in mol.GetAromaticAtoms():\n",
    "        i = a.GetIdx()\n",
    "        atoms[i] = (atoms[i], 'aromatic')\n",
    "    atoms = [atom_dict[a] for a in atoms]\n",
    "    return np.array(atoms)"
   ]
  },
  {
   "cell_type": "code",
   "execution_count": 4,
   "metadata": {},
   "outputs": [],
   "source": [
    "def create_ijbonddict(mol):\n",
    "    '''Create a dictionary, which each key is a node ID\n",
    "    and each value is the tuples of its neighboring node\n",
    "    and bond (e.g., single and double) IDs.'''\n",
    "    i_jbond_dict = defaultdict(lambda: [])\n",
    "    for b in mol.GetBonds():\n",
    "        i, j = b.GetBeginAtomIdx(), b.GetEndAtomIdx()\n",
    "        bond = bond_dict[str(b.GetBondType())]\n",
    "        i_jbond_dict[i].append((j, bond))\n",
    "        i_jbond_dict[j].append((i, bond))\n",
    "    return i_jbond_dict"
   ]
  },
  {
   "cell_type": "code",
   "execution_count": 5,
   "metadata": {},
   "outputs": [],
   "source": [
    "def extract_fingerprints(atoms, i_jbond_dict, radius):\n",
    "    '''Extract the r-radius subgraphs (i.e., fingerprints)\n",
    "    from a molecular graph using Weisfeiler-Lehman algorithm.'''\n",
    "\n",
    "    if (len(atoms) == 1) or (radius == 0):\n",
    "        fingerprints = [fingerprint_dict[a] for a in atoms]\n",
    "\n",
    "    else:\n",
    "        nodes = atoms\n",
    "        i_jedge_dict = i_jbond_dict\n",
    "\n",
    "        for _ in range(radius):\n",
    "\n",
    "            '''Update each node ID considering its neighboring nodes and edges\n",
    "            (i.e., r-radius subgraphs or fingerprints).'''\n",
    "            fingerprints = []\n",
    "            for i, j_edge in i_jedge_dict.items():\n",
    "                neighbors = [(nodes[j], edge) for j, edge in j_edge]\n",
    "                fingerprint = (nodes[i], tuple(sorted(neighbors)))\n",
    "                fingerprints.append(fingerprint_dict[fingerprint])\n",
    "            nodes = fingerprints\n",
    "\n",
    "            '''Also update each edge ID considering two nodes\n",
    "            on its both sides.'''\n",
    "            _i_jedge_dict = defaultdict(lambda: [])\n",
    "            for i, j_edge in i_jedge_dict.items():\n",
    "                for j, edge in j_edge:\n",
    "                    both_side = tuple(sorted((nodes[i], nodes[j])))\n",
    "                    edge = edge_dict[(both_side, edge)]\n",
    "                    _i_jedge_dict[i].append((j, edge))\n",
    "            i_jedge_dict = _i_jedge_dict\n",
    "\n",
    "    return np.array(fingerprints)"
   ]
  },
  {
   "cell_type": "code",
   "execution_count": 6,
   "metadata": {},
   "outputs": [],
   "source": [
    "def create_adjacency(mol):\n",
    "    adjacency = Chem.GetAdjacencyMatrix(mol)\n",
    "    return np.array(adjacency)"
   ]
  },
  {
   "cell_type": "code",
   "execution_count": 7,
   "metadata": {},
   "outputs": [],
   "source": [
    "def dump_dictionary(dictionary, filename):\n",
    "    with open(filename, 'wb') as f:\n",
    "        pickle.dump(dict(dictionary), f)"
   ]
  },
  {
   "cell_type": "code",
   "execution_count": 8,
   "metadata": {},
   "outputs": [],
   "source": [
    "def main():\n",
    "    DATASET = 'HIV'\n",
    "    # DATASET = yourdata\n",
    "\n",
    "    # radius=0  # w/o fingerprints (i.e., atoms).\n",
    "    # radius=1\n",
    "    radius=2\n",
    "    # radius=3\n",
    "\n",
    "    with open('../../dataset/classification/%s/original/data.txt' % DATASET, 'r') as f:\n",
    "        data_list = f.read().strip().split('\\n')\n",
    "\n",
    "    '''Exclude data contains '.' in the SMILES format.'''\n",
    "    data_list = [d for d in data_list if '.' not in d.strip().split()[0]]\n",
    "    \n",
    "    Smiles, molecules, adjacencies, properties = '', [], [], []\n",
    "\n",
    "    for data in tqdm(data_list):\n",
    "        smiles, property = data.strip().split()\n",
    "        Smiles += smiles + '\\n'\n",
    "\n",
    "        mol = Chem.AddHs(Chem.MolFromSmiles(smiles))  # Consider hydrogens.\n",
    "        atoms = create_atoms(mol)\n",
    "        i_jbond_dict = create_ijbonddict(mol)\n",
    "\n",
    "        fingerprints = extract_fingerprints(atoms, i_jbond_dict, radius)\n",
    "        molecules.append(fingerprints)\n",
    "\n",
    "        adjacency = create_adjacency(mol)\n",
    "        adjacencies.append(adjacency)\n",
    "\n",
    "        properties.append(np.array([float(property)]))\n",
    "\n",
    "    dir_input = '../../dataset/classification/%s/input/radius%d/' % (DATASET, radius)\n",
    "    os.makedirs(dir_input, exist_ok=True)\n",
    "\n",
    "    with open(dir_input + 'Smiles.txt', 'w') as f:\n",
    "        f.write(Smiles)\n",
    "    np.save(os.path.join(dir_input, 'molecules'), molecules)\n",
    "    np.save(os.path.join(dir_input, 'adjacencies'), adjacencies)\n",
    "    np.save(os.path.join(dir_input, 'properties'), properties)\n",
    "    dump_dictionary(fingerprint_dict, os.path.join(dir_input, 'fingerprint_dict.pkl'))\n",
    "\n",
    "    print('The preprocess of %s dataset has finished!' % DATASET)"
   ]
  },
  {
   "cell_type": "code",
   "execution_count": 10,
   "metadata": {},
   "outputs": [
    {
     "name": "stderr",
     "output_type": "stream",
     "text": [
      "100%|██████████| 38775/38775 [05:19<00:00, 121.19it/s]\n"
     ]
    },
    {
     "name": "stdout",
     "output_type": "stream",
     "text": [
      "The preprocess of HIV dataset has finished!\n"
     ]
    }
   ],
   "source": [
    "if __name__ == '__main__':\n",
    "    atom_dict = defaultdict(lambda: len(atom_dict))\n",
    "    bond_dict = defaultdict(lambda: len(bond_dict))\n",
    "    fingerprint_dict = defaultdict(lambda: len(fingerprint_dict))\n",
    "    edge_dict = defaultdict(lambda: len(edge_dict))\n",
    "\n",
    "    main()"
   ]
  },
  {
   "cell_type": "code",
   "execution_count": null,
   "metadata": {},
   "outputs": [],
   "source": []
  }
 ],
 "metadata": {
  "jupytext": {
   "cell_metadata_filter": "-all",
   "notebook_metadata_filter": "-all",
   "text_representation": {
    "extension": ".py",
    "format_name": "light"
   }
  },
  "kernelspec": {
   "display_name": "Python 3",
   "language": "python",
   "name": "python3"
  },
  "language_info": {
   "codemirror_mode": {
    "name": "ipython",
    "version": 3
   },
   "file_extension": ".py",
   "mimetype": "text/x-python",
   "name": "python",
   "nbconvert_exporter": "python",
   "pygments_lexer": "ipython3",
   "version": "3.7.4"
  }
 },
 "nbformat": 4,
 "nbformat_minor": 4
}
